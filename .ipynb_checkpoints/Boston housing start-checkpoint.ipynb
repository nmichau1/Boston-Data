{
 "cells": [
  {
   "cell_type": "code",
   "execution_count": 1,
   "metadata": {},
   "outputs": [],
   "source": [
    "import pandas as pd\n",
    "import seaborn as sns\n",
    "import matplotlib.pyplot as plt\n",
    "from sklearn.model_selection import train_test_split\n",
    "from sklearn.linear_model import LinearRegression\n",
    "from sklearn.metrics import mean_absolute_error"
   ]
  },
  {
   "cell_type": "code",
   "execution_count": 108,
   "metadata": {},
   "outputs": [
    {
     "data": {
      "text/plain": [
       "CRIM       0\n",
       "ZN         0\n",
       "INDUS      0\n",
       "CHAS       0\n",
       "NOX        0\n",
       "RM         0\n",
       "AGE        0\n",
       "DIS        0\n",
       "RAD        0\n",
       "TAX        0\n",
       "PTRATIO    0\n",
       "B          0\n",
       "LSTAT      0\n",
       "MEDV       0\n",
       "dtype: int64"
      ]
     },
     "execution_count": 108,
     "metadata": {},
     "output_type": "execute_result"
    }
   ],
   "source": [
    "df = pd.read_csv('boston-housing.csv')\n",
    "df = df.dropna()\n",
    "df.isna().sum()"
   ]
  },
  {
   "cell_type": "code",
   "execution_count": 109,
   "metadata": {
    "scrolled": true
   },
   "outputs": [],
   "source": [
    "X = df.drop('MEDV',axis=1)\n",
    "Y = df['MEDV']\n",
    "\n",
    "X_train,X_test,Y_train,Y_test = train_test_split(X,Y,test_size = .2, random_state = 42)"
   ]
  },
  {
   "cell_type": "code",
   "execution_count": 116,
   "metadata": {},
   "outputs": [
    {
     "data": {
      "text/plain": [
       "array([29.22850199, 17.5037472 , 21.80803847, 30.4942528 , 18.50265527,\n",
       "       34.7432311 , 22.07369779, 30.7541295 , 33.52029866, 14.82910783,\n",
       "       22.14507214, 41.26427356, 22.51242483, 16.87300668, 19.0023074 ,\n",
       "       20.77110711, 17.26921288, 15.48568273, 22.69482862, 14.12652975,\n",
       "       18.19319969, 20.48292217, 17.04235173, 29.66737037, 26.09718411,\n",
       "       16.06132841, 27.09746911, 31.45656662, 22.64238912, 27.06681913,\n",
       "       41.10181897, 18.21320236, 23.062681  , 17.41202659, 17.39546606,\n",
       "       21.076803  , 22.38598488, 21.66963934, 22.9118984 , 20.80249561,\n",
       "       27.70046219, 34.60121409, 22.25931447, 30.83868791, 35.33229137,\n",
       "       19.76393425, 24.99195034, 10.39133132, 19.75538217, 25.31114768,\n",
       "       21.55934818, 25.89776968, 14.23212614, 18.66822307, 18.34126683,\n",
       "       24.31756905, 43.40891373, 22.87668508, 15.3452895 , 23.17268086,\n",
       "       21.11796307, 21.4821572 , 14.66508216, 28.92300146, -3.71655126,\n",
       "       32.60224615, 16.81628299, 31.90077457, 24.78013157, 20.11600672,\n",
       "       31.55246209, 32.35712749, 18.87519084, 19.5714957 , 19.26577986,\n",
       "       35.60775919, 19.34796049, 28.48982534, 16.32963606])"
      ]
     },
     "execution_count": 116,
     "metadata": {},
     "output_type": "execute_result"
    }
   ],
   "source": [
    "model = LinearRegression()\n",
    "model.fit(X_train,Y_train)\n",
    "\n",
    "\n",
    "model.predict(X_test)"
   ]
  },
  {
   "cell_type": "code",
   "execution_count": null,
   "metadata": {},
   "outputs": [],
   "source": []
  },
  {
   "cell_type": "code",
   "execution_count": null,
   "metadata": {},
   "outputs": [],
   "source": []
  },
  {
   "cell_type": "code",
   "execution_count": null,
   "metadata": {},
   "outputs": [],
   "source": []
  },
  {
   "cell_type": "code",
   "execution_count": null,
   "metadata": {},
   "outputs": [],
   "source": []
  },
  {
   "cell_type": "code",
   "execution_count": null,
   "metadata": {},
   "outputs": [],
   "source": []
  },
  {
   "cell_type": "code",
   "execution_count": null,
   "metadata": {},
   "outputs": [],
   "source": []
  },
  {
   "cell_type": "code",
   "execution_count": null,
   "metadata": {},
   "outputs": [],
   "source": []
  }
 ],
 "metadata": {
  "kernelspec": {
   "display_name": "Python 3",
   "language": "python",
   "name": "python3"
  },
  "language_info": {
   "codemirror_mode": {
    "name": "ipython",
    "version": 3
   },
   "file_extension": ".py",
   "mimetype": "text/x-python",
   "name": "python",
   "nbconvert_exporter": "python",
   "pygments_lexer": "ipython3",
   "version": "3.7.6"
  }
 },
 "nbformat": 4,
 "nbformat_minor": 4
}
